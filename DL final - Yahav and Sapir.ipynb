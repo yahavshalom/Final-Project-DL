{
 "cells": [
  {
   "cell_type": "markdown",
   "metadata": {},
   "source": [
    "# Deep learning \n",
    "#### Final project\n",
    "#### Yahav & Sapir"
   ]
  },
  {
   "cell_type": "code",
   "execution_count": 1,
   "metadata": {},
   "outputs": [],
   "source": [
    "# ! pip install tensorflow"
   ]
  },
  {
   "cell_type": "code",
   "execution_count": 2,
   "metadata": {},
   "outputs": [],
   "source": [
    "import pandas as pd\n",
    "import numpy as np\n",
    "import matplotlib.pyplot as plt\n",
    "from sklearn.metrics import confusion_matrix\n",
    "import seaborn as sns\n",
    "import tensorflow as tf\n",
    "import tensorflow.keras as keras\n",
    "from tensorflow.keras import activations\n",
    "from tensorflow.keras.models import Sequential\n",
    "from tensorflow.keras.layers import Dense, Conv2D, MaxPool2D, MaxPooling2D, Flatten, Dropout, BatchNormalization\n",
    "from tensorflow.keras.metrics import Precision, Recall\n",
    "\n",
    "tf.compat.v1.disable_eager_execution()\n",
    "\n",
    "sess = tf.compat.v1.Session()\n"
   ]
  },
  {
   "cell_type": "markdown",
   "metadata": {},
   "source": [
    "## import data and split to train/test , x/y and reshape"
   ]
  },
  {
   "cell_type": "code",
   "execution_count": 3,
   "metadata": {},
   "outputs": [],
   "source": [
    "#there are 24 letters but for the order j get an index althogh j and z dont have data\n",
    "labels = ['A', 'B', 'C', 'D', 'E',\n",
    "            'F', 'G', 'H', 'I', 'J',\n",
    "            'K', 'L', 'M', 'N', 'O',\n",
    "            'P', 'Q', 'R', 'S', 'T',\n",
    "            'U', 'V', 'W', 'X', 'Y']\n",
    "\n",
    "# Importing the data - test and train\n",
    "test = pd.read_csv(\"sign_mnist_test.csv\").to_numpy() \n",
    "train = pd.read_csv(\"sign_mnist_train.csv\").to_numpy()\n",
    "\n",
    "# Splitting test into x & y - x = fetures y = labels \n",
    "# Note: we do OneHot on the y to get it as a vector at the size of the categories\n",
    "# then put's 1 where the right label is and zero in the rest\n",
    "y_test=test[:,0]\n",
    "y_test=keras.utils.to_categorical(y_test, len(labels))\n",
    "x_test=test[:,1:]/255\n",
    "\n",
    "# Splitting data into x & y -> x = fetures y = labels\n",
    "# Note: we do OneHot on the y to get it as a vector at the size of the categories\n",
    "# then put's 1 where the right label is and zero in the rest\n",
    "data_y=train[:,0]\n",
    "data_y=keras.utils.to_categorical(data_y, len(labels))\n",
    "data_x=train[:,1:]/255\n",
    "\n",
    "# Reshape the data from a flat array (1D) to a 28x28 image format (2D) because convolutional neural networks (CNNs) expect input data in the form of images with width height, and channels\n",
    "data_x = data_x.reshape(-1,28,28,1)\n",
    "x_test = x_test.reshape(-1,28,28,1)\n",
    "\n"
   ]
  },
  {
   "cell_type": "markdown",
   "metadata": {},
   "source": [
    "## Print an image from the dataset for example"
   ]
  },
  {
   "cell_type": "code",
   "execution_count": 4,
   "metadata": {},
   "outputs": [
    {
     "data": {
      "image/png": "[encoded data removed]",
      "text/plain": [
       "<Figure size 432x288 with 1 Axes>"
      ]
     },
     "metadata": {
      "needs_background": "light"
     },
     "output_type": "display_data"
    }
   ],
   "source": [
    "# Print an example image\n",
    "digit = data_x[3]\n",
    "plt.imshow(digit, cmap=plt.cm.binary)\n",
    "plt.show()"
   ]
  },
  {
   "cell_type": "markdown",
   "metadata": {},
   "source": [
    "## Define the arcitecture of the model"
   ]
  },
  {
   "cell_type": "code",
   "execution_count": 5,
   "metadata": {
    "scrolled": false
   },
   "outputs": [],
   "source": [
    "import tensorflow as tf\n",
    "from tensorflow.keras.models import Sequential\n",
    "from tensorflow.keras.layers import Dense, Conv2D, MaxPool2D, Flatten, Dropout, BatchNormalization\n",
    "from tensorflow.keras.metrics import Precision, Recall\n",
    "\n",
    "# Create a Sequential model\n",
    "cnn_model = Sequential()\n",
    "\n",
    "        ##### 1 #####\n",
    "# Add the first convolutional layer\n",
    "# - 32 filters of size (3x3)\n",
    "# - Input shape: (28, 28, 1) indicating 28x28 pixel grayscale images\n",
    "# - Activation function: Rectified Linear Unit (ReLU)\n",
    "cnn_model.add(Conv2D(32, (3, 3), input_shape=(28, 28, 1), activation='relu'))\n",
    "\n",
    "# Add max-pooling layer to downsample the spatial dimensions\n",
    "cnn_model.add(MaxPool2D(pool_size=(2, 2)))\n",
    "\n",
    "# Add dropout layer to prevent overfitting by randomly deactivating 20% of neurons\n",
    "cnn_model.add(Dropout(0.2))\n",
    "\n",
    "        ##### 2 #####\n",
    "# Add the second convolutional layer\n",
    "cnn_model.add(Conv2D(64, (3, 3), activation='relu'))\n",
    "\n",
    "# Add max-pooling layer\n",
    "cnn_model.add(MaxPool2D(pool_size=(2, 2)))\n",
    "\n",
    "# Add dropout layer\n",
    "cnn_model.add(Dropout(0.2))\n",
    "\n",
    "        ##### 3 #####\n",
    "# Add the third convolutional layer\n",
    "cnn_model.add(Conv2D(128, (3, 3), activation='relu'))\n",
    "\n",
    "# Add max-pooling layer\n",
    "cnn_model.add(MaxPool2D(pool_size=(2, 2)))\n",
    "\n",
    "# Add dropout layer\n",
    "cnn_model.add(Dropout(0.2))\n",
    "\n",
    "# Flatten the output from the previous layer to prepare for fully connected layers\n",
    "cnn_model.add(Flatten())\n",
    "\n",
    "# Add a fully connected hidden layer with 128 neurons and ReLU activation\n",
    "cnn_model.add(Dense(128, activation='relu'))\n",
    "\n",
    "# Add the output layer with the number of neurons equal to the number of labels\n",
    "# and softmax activation for multi-class classification\n",
    "cnn_model.add(Dense(len(labels), activation='softmax'))\n"
   ]
  },
  {
   "cell_type": "markdown",
   "metadata": {},
   "source": [
    "#### Model summery"
   ]
  },
  {
   "cell_type": "code",
   "execution_count": 6,
   "metadata": {},
   "outputs": [
    {
     "name": "stdout",
     "output_type": "stream",
     "text": [
      "Model: \"sequential\"\n",
      "_________________________________________________________________\n",
      " Layer (type)                Output Shape              Param #   \n",
      "=================================================================\n",
      " conv2d (Conv2D)             (None, 26, 26, 32)        320       \n",
      "                                                                 \n",
      " max_pooling2d (MaxPooling2D  (None, 13, 13, 32)       0         \n",
      " )                                                               \n",
      "                                                                 \n",
      " dropout (Dropout)           (None, 13, 13, 32)        0         \n",
      "                                                                 \n",
      " conv2d_1 (Conv2D)           (None, 11, 11, 64)        18496     \n",
      "                                                                 \n",
      " max_pooling2d_1 (MaxPooling  (None, 5, 5, 64)         0         \n",
      " 2D)                                                             \n",
      "                                                                 \n",
      " dropout_1 (Dropout)         (None, 5, 5, 64)          0         \n",
      "                                                                 \n",
      " conv2d_2 (Conv2D)           (None, 3, 3, 128)         73856     \n",
      "                                                                 \n",
      " max_pooling2d_2 (MaxPooling  (None, 1, 1, 128)        0         \n",
      " 2D)                                                             \n",
      "                                                                 \n",
      " dropout_2 (Dropout)         (None, 1, 1, 128)         0         \n",
      "                                                                 \n",
      " flatten (Flatten)           (None, 128)               0         \n",
      "                                                                 \n",
      " dense (Dense)               (None, 128)               16512     \n",
      "                                                                 \n",
      " dense_1 (Dense)             (None, 25)                3225      \n",
      "                                                                 \n",
      "=================================================================\n",
      "Total params: 112,409\n",
      "Trainable params: 112,409\n",
      "Non-trainable params: 0\n",
      "_________________________________________________________________\n"
     ]
    }
   ],
   "source": [
    "cnn_model.summary()"
   ]
  },
  {
   "cell_type": "markdown",
   "metadata": {},
   "source": [
    "## Compile the model"
   ]
  },
  {
   "cell_type": "code",
   "execution_count": 7,
   "metadata": {},
   "outputs": [],
   "source": [
    "# Compile the model:\n",
    "# - Optimizer: Adam optimizer for gradient descent\n",
    "# - Loss function: Categorical Crossentropy for multi-class classification\n",
    "# - Metrics: Accuracy, Precision, and Recall to monitor model performance\n",
    "cnn_model.compile(optimizer='adam', loss='categorical_crossentropy',\n",
    "                   metrics=['accuracy', Precision(), Recall()])"
   ]
  },
  {
   "cell_type": "markdown",
   "metadata": {},
   "source": [
    "## \"Fitting\" the model"
   ]
  },
  {
   "cell_type": "code",
   "execution_count": 8,
   "metadata": {},
   "outputs": [
    {
     "name": "stdout",
     "output_type": "stream",
     "text": [
      "Train on 27455 samples, validate on 27455 samples\n",
      "Epoch 1/20\n",
      "27400/27455 [============================>.] - ETA: 0s - loss: 1.7890 - accuracy: 0.4314 - precision: 0.7877 - recall: 0.2577"
     ]
    },
    {
     "name": "stderr",
     "output_type": "stream",
     "text": [
      "C:\\Users\\yahav\\anaconda3\\lib\\site-packages\\keras\\engine\\training_v1.py:2332: UserWarning: `Model.state_updates` will be removed in a future version. This property should not be used in TensorFlow 2.0, as `updates` are applied automatically.\n",
      "  updates = self.state_updates\n"
     ]
    },
    {
     "name": "stdout",
     "output_type": "stream",
     "text": [
      "27455/27455 [==============================] - 17s 621us/sample - loss: 1.7869 - accuracy: 0.4319 - precision: 0.7879 - recall: 0.2583 - val_loss: 0.5639 - val_accuracy: 0.8318 - val_precision: 0.9177 - val_recall: 0.7136\n",
      "Epoch 2/20\n",
      "27455/27455 [==============================] - 17s 624us/sample - loss: 0.5521 - accuracy: 0.8117 - precision: 0.8760 - recall: 0.7356 - val_loss: 0.2059 - val_accuracy: 0.9442 - val_precision: 0.9642 - val_recall: 0.9140\n",
      "Epoch 3/20\n",
      "27455/27455 [==============================] - 21s 778us/sample - loss: 0.2903 - accuracy: 0.9013 - precision: 0.9264 - recall: 0.8716 - val_loss: 0.0859 - val_accuracy: 0.9804 - val_precision: 0.9839 - val_recall: 0.9738\n",
      "Epoch 4/20\n",
      "27455/27455 [==============================] - 22s 793us/sample - loss: 0.1782 - accuracy: 0.9403 - precision: 0.9520 - recall: 0.9278 - val_loss: 0.0456 - val_accuracy: 0.9897 - val_precision: 0.9907 - val_recall: 0.9884\n",
      "Epoch 5/20\n",
      "27455/27455 [==============================] - 17s 635us/sample - loss: 0.1275 - accuracy: 0.9579 - precision: 0.9645 - recall: 0.9501 - val_loss: 0.0186 - val_accuracy: 0.9984 - val_precision: 0.9988 - val_recall: 0.9979\n",
      "Epoch 6/20\n",
      "27455/27455 [==============================] - 17s 625us/sample - loss: 0.0930 - accuracy: 0.9691 - precision: 0.9731 - recall: 0.9645 - val_loss: 0.0087 - val_accuracy: 0.9997 - val_precision: 0.9997 - val_recall: 0.9993\n",
      "Epoch 7/20\n",
      "27455/27455 [==============================] - 17s 607us/sample - loss: 0.0786 - accuracy: 0.9750 - precision: 0.9785 - recall: 0.9713 - val_loss: 0.0050 - val_accuracy: 0.9999 - val_precision: 1.0000 - val_recall: 0.9999\n",
      "Epoch 8/20\n",
      "27455/27455 [==============================] - 19s 710us/sample - loss: 0.0589 - accuracy: 0.9812 - precision: 0.9837 - recall: 0.9792 - val_loss: 0.0045 - val_accuracy: 0.9999 - val_precision: 0.9999 - val_recall: 0.9998\n",
      "Epoch 9/20\n",
      "27455/27455 [==============================] - 18s 652us/sample - loss: 0.0532 - accuracy: 0.9828 - precision: 0.9843 - recall: 0.9809 - val_loss: 0.0020 - val_accuracy: 1.0000 - val_precision: 1.0000 - val_recall: 1.0000\n",
      "Epoch 10/20\n",
      "27455/27455 [==============================] - 20s 729us/sample - loss: 0.0419 - accuracy: 0.9866 - precision: 0.9875 - recall: 0.9854 - val_loss: 0.0044 - val_accuracy: 0.9996 - val_precision: 0.9996 - val_recall: 0.9996\n",
      "Epoch 11/20\n",
      "27455/27455 [==============================] - 18s 647us/sample - loss: 0.0446 - accuracy: 0.9857 - precision: 0.9869 - recall: 0.9845 - val_loss: 0.0023 - val_accuracy: 0.9998 - val_precision: 0.9998 - val_recall: 0.9998\n",
      "Epoch 12/20\n",
      "27455/27455 [==============================] - 18s 671us/sample - loss: 0.0379 - accuracy: 0.9884 - precision: 0.9892 - recall: 0.9872 - val_loss: 7.9705e-04 - val_accuracy: 1.0000 - val_precision: 1.0000 - val_recall: 1.0000\n",
      "Epoch 13/20\n",
      "27455/27455 [==============================] - 18s 670us/sample - loss: 0.0365 - accuracy: 0.9882 - precision: 0.9891 - recall: 0.9872 - val_loss: 0.0023 - val_accuracy: 0.9999 - val_precision: 0.9999 - val_recall: 0.9998\n",
      "Epoch 14/20\n",
      "27455/27455 [==============================] - 18s 660us/sample - loss: 0.0344 - accuracy: 0.9890 - precision: 0.9902 - recall: 0.9882 - val_loss: 5.2199e-04 - val_accuracy: 1.0000 - val_precision: 1.0000 - val_recall: 1.0000\n",
      "Epoch 15/20\n",
      "27455/27455 [==============================] - 17s 612us/sample - loss: 0.0317 - accuracy: 0.9894 - precision: 0.9902 - recall: 0.9886 - val_loss: 4.6610e-04 - val_accuracy: 1.0000 - val_precision: 1.0000 - val_recall: 1.0000\n",
      "Epoch 16/20\n",
      "27455/27455 [==============================] - 19s 681us/sample - loss: 0.0299 - accuracy: 0.9902 - precision: 0.9910 - recall: 0.9894 - val_loss: 3.4692e-04 - val_accuracy: 1.0000 - val_precision: 1.0000 - val_recall: 1.0000\n",
      "Epoch 17/20\n",
      "27455/27455 [==============================] - 17s 623us/sample - loss: 0.0245 - accuracy: 0.9928 - precision: 0.9932 - recall: 0.9922 - val_loss: 3.3807e-04 - val_accuracy: 1.0000 - val_precision: 1.0000 - val_recall: 1.0000\n",
      "Epoch 18/20\n",
      "27455/27455 [==============================] - 17s 627us/sample - loss: 0.0246 - accuracy: 0.9921 - precision: 0.9927 - recall: 0.9917 - val_loss: 3.0836e-04 - val_accuracy: 1.0000 - val_precision: 1.0000 - val_recall: 1.0000\n",
      "Epoch 19/20\n",
      "27455/27455 [==============================] - 18s 638us/sample - loss: 0.0257 - accuracy: 0.9920 - precision: 0.9925 - recall: 0.9913 - val_loss: 4.9279e-04 - val_accuracy: 1.0000 - val_precision: 1.0000 - val_recall: 1.0000\n",
      "Epoch 20/20\n",
      "27455/27455 [==============================] - 17s 626us/sample - loss: 0.0202 - accuracy: 0.9931 - precision: 0.9935 - recall: 0.9926 - val_loss: 3.1190e-04 - val_accuracy: 1.0000 - val_precision: 1.0000 - val_recall: 1.0000\n"
     ]
    }
   ],
   "source": [
    "# Train your model \n",
    "history = cnn_model.fit(data_x, data_y, epochs = 20, batch_size = 50, validation_data = (data_x, data_y))\n"
   ]
  },
  {
   "cell_type": "markdown",
   "metadata": {},
   "source": [
    "## Plot the metrics"
   ]
  },
  {
   "cell_type": "code",
   "execution_count": 9,
   "metadata": {},
   "outputs": [],
   "source": [
    "# Collect metrics during training\n",
    "accuracy = history.history['accuracy']\n",
    "precision = history.history['precision']\n",
    "recall = history.history['recall']"
   ]
  },
  {
   "cell_type": "code",
   "execution_count": 10,
   "metadata": {},
   "outputs": [
    {
     "data": {
      "image/png": "[encoded data removed]",
      "text/plain": [
       "<Figure size 864x288 with 3 Axes>"
      ]
     },
     "metadata": {
      "needs_background": "light"
     },
     "output_type": "display_data"
    }
   ],
   "source": [
    "epochs = range(1, len(accuracy) + 1)\n",
    "\n",
    "plt.figure(figsize=(12, 4))\n",
    "plt.subplot(131)\n",
    "plt.plot(epochs, accuracy, 'bo-', label='Training Accuracy')\n",
    "plt.plot(epochs, history.history['val_accuracy'], 'ro-', label='Validation Accuracy')\n",
    "plt.title('Training and Validation Accuracy')\n",
    "plt.xlabel('Epochs')\n",
    "plt.ylabel('Accuracy')\n",
    "plt.legend()\n",
    "\n",
    "plt.subplot(132)\n",
    "plt.plot(epochs, precision, 'bo-', label='Training Precision')\n",
    "plt.plot(epochs, history.history['val_precision'], 'ro-', label='Validation Precision')\n",
    "plt.title('Training and Validation Precision')\n",
    "plt.xlabel('Epochs')\n",
    "plt.ylabel('Precision')\n",
    "plt.legend()\n",
    "\n",
    "plt.subplot(133)\n",
    "plt.plot(epochs, recall, 'bo-', label='Training Recall')\n",
    "plt.plot(epochs, history.history['val_recall'], 'ro-', label='Validation Recall')\n",
    "plt.title('Training and Validation Recall')\n",
    "plt.xlabel('Epochs')\n",
    "plt.ylabel('Recall')\n",
    "plt.legend()\n",
    "\n",
    "plt.tight_layout()\n",
    "plt.show()"
   ]
  },
  {
   "cell_type": "markdown",
   "metadata": {},
   "source": [
    "## Model evaluation"
   ]
  },
  {
   "cell_type": "code",
   "execution_count": 11,
   "metadata": {},
   "outputs": [
    {
     "name": "stdout",
     "output_type": "stream",
     "text": [
      "Test Loss: 0.1971540497061938\n",
      "Test Accuracy: 0.951617419719696\n",
      "Test Precision: 0.9582160711288452\n",
      "Test Recall: 0.949665367603302\n"
     ]
    }
   ],
   "source": [
    "# Evaluate the model on the test data\n",
    "evaluation = cnn_model.evaluate(x_test, y_test)\n",
    "\n",
    "# Print the evaluation results\n",
    "print(f\"Test Loss: {evaluation[0]}\")\n",
    "print(f\"Test Accuracy: {evaluation[1]}\")\n",
    "print(f\"Test Precision: {evaluation[2]}\")\n",
    "print(f\"Test Recall: {evaluation[3]}\")"
   ]
  },
  {
   "cell_type": "markdown",
   "metadata": {},
   "source": [
    "## Model summery"
   ]
  },
  {
   "cell_type": "code",
   "execution_count": 12,
   "metadata": {},
   "outputs": [
    {
     "name": "stdout",
     "output_type": "stream",
     "text": [
      "Model: \"sequential\"\n",
      "_________________________________________________________________\n",
      " Layer (type)                Output Shape              Param #   \n",
      "=================================================================\n",
      " conv2d (Conv2D)             (None, 26, 26, 32)        320       \n",
      "                                                                 \n",
      " max_pooling2d (MaxPooling2D  (None, 13, 13, 32)       0         \n",
      " )                                                               \n",
      "                                                                 \n",
      " dropout (Dropout)           (None, 13, 13, 32)        0         \n",
      "                                                                 \n",
      " conv2d_1 (Conv2D)           (None, 11, 11, 64)        18496     \n",
      "                                                                 \n",
      " max_pooling2d_1 (MaxPooling  (None, 5, 5, 64)         0         \n",
      " 2D)                                                             \n",
      "                                                                 \n",
      " dropout_1 (Dropout)         (None, 5, 5, 64)          0         \n",
      "                                                                 \n",
      " conv2d_2 (Conv2D)           (None, 3, 3, 128)         73856     \n",
      "                                                                 \n",
      " max_pooling2d_2 (MaxPooling  (None, 1, 1, 128)        0         \n",
      " 2D)                                                             \n",
      "                                                                 \n",
      " dropout_2 (Dropout)         (None, 1, 1, 128)         0         \n",
      "                                                                 \n",
      " flatten (Flatten)           (None, 128)               0         \n",
      "                                                                 \n",
      " dense (Dense)               (None, 128)               16512     \n",
      "                                                                 \n",
      " dense_1 (Dense)             (None, 25)                3225      \n",
      "                                                                 \n",
      "=================================================================\n",
      "Total params: 112,409\n",
      "Trainable params: 112,409\n",
      "Non-trainable params: 0\n",
      "_________________________________________________________________\n"
     ]
    }
   ],
   "source": [
    "cnn_model.summary()"
   ]
  },
  {
   "cell_type": "markdown",
   "metadata": {},
   "source": [
    "## After seeing that there is an overfitting according to the plots, we tried to add regularizers to the model"
   ]
  },
  {
   "cell_type": "code",
   "execution_count": 14,
   "metadata": {},
   "outputs": [],
   "source": [
    "data_x = (train[:, 1:] / 255).reshape(-1, 28, 28, 1)\n",
    "data_y = keras.utils.to_categorical(train[:, 0], len(labels))\n",
    "x_test = (test[:, 1:] / 255).reshape(-1, 28, 28, 1)\n",
    "y_test = keras.utils.to_categorical(test[:, 0], len(labels))\n"
   ]
  },
  {
   "cell_type": "code",
   "execution_count": 17,
   "metadata": {},
   "outputs": [
    {
     "name": "stdout",
     "output_type": "stream",
     "text": [
      "Train on 27455 samples, validate on 7172 samples\n",
      "Epoch 1/20\n",
      "27455/27455 [==============================] - 13s 487us/sample - loss: 1.9050 - accuracy: 0.4060 - val_loss: 0.8495 - val_accuracy: 0.7041\n",
      "Epoch 2/20\n",
      "27455/27455 [==============================] - 13s 479us/sample - loss: 0.5633 - accuracy: 0.8099 - val_loss: 0.4221 - val_accuracy: 0.8632\n",
      "Epoch 3/20\n",
      "27455/27455 [==============================] - 12s 436us/sample - loss: 0.2956 - accuracy: 0.9006 - val_loss: 0.3333 - val_accuracy: 0.8890\n",
      "Epoch 4/20\n",
      "27455/27455 [==============================] - 12s 446us/sample - loss: 0.1769 - accuracy: 0.9396 - val_loss: 0.2695 - val_accuracy: 0.9205\n",
      "Epoch 5/20\n",
      "27455/27455 [==============================] - 13s 482us/sample - loss: 0.1274 - accuracy: 0.9577 - val_loss: 0.2283 - val_accuracy: 0.9307\n",
      "Epoch 6/20\n",
      "27455/27455 [==============================] - 13s 486us/sample - loss: 0.0856 - accuracy: 0.9724 - val_loss: 0.2314 - val_accuracy: 0.9328\n",
      "Epoch 7/20\n",
      "27455/27455 [==============================] - 13s 492us/sample - loss: 0.0723 - accuracy: 0.9759 - val_loss: 0.2142 - val_accuracy: 0.9395\n",
      "Epoch 8/20\n",
      "27455/27455 [==============================] - 14s 498us/sample - loss: 0.0600 - accuracy: 0.9808 - val_loss: 0.1907 - val_accuracy: 0.9438\n",
      "Epoch 9/20\n",
      "27455/27455 [==============================] - 14s 509us/sample - loss: 0.0514 - accuracy: 0.9842 - val_loss: 0.2136 - val_accuracy: 0.9382\n",
      "Epoch 10/20\n",
      "27455/27455 [==============================] - 14s 521us/sample - loss: 0.0427 - accuracy: 0.9866 - val_loss: 0.2138 - val_accuracy: 0.9378\n",
      "Epoch 11/20\n",
      "27455/27455 [==============================] - 15s 537us/sample - loss: 0.0446 - accuracy: 0.9859 - val_loss: 0.2247 - val_accuracy: 0.9339\n",
      "Epoch 12/20\n",
      "27455/27455 [==============================] - 14s 508us/sample - loss: 0.0334 - accuracy: 0.9893 - val_loss: 0.1949 - val_accuracy: 0.9438\n",
      "Epoch 13/20\n",
      "27455/27455 [==============================] - 13s 483us/sample - loss: 0.0320 - accuracy: 0.9900 - val_loss: 0.2222 - val_accuracy: 0.9470\n",
      "Epoch 14/20\n",
      "27455/27455 [==============================] - 14s 524us/sample - loss: 0.0333 - accuracy: 0.9890 - val_loss: 0.2068 - val_accuracy: 0.9511\n",
      "Epoch 15/20\n",
      "27455/27455 [==============================] - 14s 513us/sample - loss: 0.0290 - accuracy: 0.9907 - val_loss: 0.1789 - val_accuracy: 0.9561\n",
      "Epoch 16/20\n",
      "27455/27455 [==============================] - 13s 491us/sample - loss: 0.0234 - accuracy: 0.9921 - val_loss: 0.1796 - val_accuracy: 0.9575\n",
      "Epoch 17/20\n",
      "27455/27455 [==============================] - 14s 510us/sample - loss: 0.0316 - accuracy: 0.9891 - val_loss: 0.1894 - val_accuracy: 0.9476\n",
      "Epoch 18/20\n",
      "27455/27455 [==============================] - 14s 506us/sample - loss: 0.0231 - accuracy: 0.9924 - val_loss: 0.1590 - val_accuracy: 0.9607\n",
      "Epoch 19/20\n",
      "27455/27455 [==============================] - 13s 491us/sample - loss: 0.0263 - accuracy: 0.9921 - val_loss: 0.1751 - val_accuracy: 0.9518\n",
      "Epoch 20/20\n",
      "27455/27455 [==============================] - 13s 491us/sample - loss: 0.0200 - accuracy: 0.9940 - val_loss: 0.1659 - val_accuracy: 0.9635\n"
     ]
    },
    {
     "name": "stderr",
     "output_type": "stream",
     "text": [
      "C:\\Users\\yahav\\anaconda3\\lib\\site-packages\\keras\\engine\\training_v1.py:2356: UserWarning: `Model.state_updates` will be removed in a future version. This property should not be used in TensorFlow 2.0, as `updates` are applied automatically.\n",
      "  updates=self.state_updates,\n"
     ]
    }
   ],
   "source": [
    "cnn = Sequential()\n",
    "cnn.add(Conv2D(32, (3, 3), input_shape = (28, 28, 1), activation = 'relu', kernel_regularizer=l2(0.01)))\n",
    "cnn.add(MaxPooling2D(pool_size = (2, 2)))\n",
    "cnn.add(Dropout(0.2))\n",
    "\n",
    "cnn.add(Conv2D(64, (3, 3), activation = 'relu', , kernel_regularizer=l2(0.01)))\n",
    "cnn.add(MaxPooling2D(pool_size = (2, 2)))\n",
    "cnn.add(Dropout(0.2))\n",
    "\n",
    "cnn.add(Conv2D(128, (3, 3), activation = 'relu', kernel_regularizer=l2(0.01)))\n",
    "cnn.add(MaxPooling2D(pool_size=(2, 2)))\n",
    "cnn.add(Dropout(0.2))\n",
    "\n",
    "cnn.add(Flatten())\n",
    "cnn.add(Dense(128, activation = 'relu', kernel_regularizer=l2(0.01)))\n",
    "cnn.add(Dense( len(labels), activation= 'softmax'))\n",
    "\n",
    "cnn.compile(optimizer = 'adam', loss = 'categorical_crossentropy', metrics = ['accuracy'])\n",
    "history = cnn.fit(data_x, data_y, epochs = 20, batch_size = 50, validation_data = (x_test, y_test))\n",
    "\n",
    "prediction = np.argmax(cnn.predict(x_test), axis=1)"
   ]
  },
  {
   "cell_type": "markdown",
   "metadata": {},
   "source": [
    "#### New accuracy"
   ]
  },
  {
   "cell_type": "code",
   "execution_count": 18,
   "metadata": {},
   "outputs": [
    {
     "data": {
      "image/png": "[encoded data removed]",
      "text/plain": [
       "<Figure size 432x288 with 1 Axes>"
      ]
     },
     "metadata": {
      "needs_background": "light"
     },
     "output_type": "display_data"
    }
   ],
   "source": [
    "plt.plot(history.history['accuracy'])\n",
    "plt.plot(history.history['val_accuracy'])\n",
    "plt.title(\"Model Accuracy\")\n",
    "plt.ylabel(\"Accuracy\")\n",
    "plt.xlabel(\"Epoch\")\n",
    "plt.legend(['train set', 'validation set'], loc='upper left')\n",
    "plt.show()"
   ]
  },
  {
   "cell_type": "markdown",
   "metadata": {},
   "source": [
    "#### New loss func"
   ]
  },
  {
   "cell_type": "code",
   "execution_count": 19,
   "metadata": {},
   "outputs": [
    {
     "data": {
      "image/png": "[encoded data removed]",
      "text/plain": [
       "<Figure size 432x288 with 1 Axes>"
      ]
     },
     "metadata": {
      "needs_background": "light"
     },
     "output_type": "display_data"
    }
   ],
   "source": [
    "plt.plot(history.history['loss'])\n",
    "plt.plot(history.history['val_loss'])\n",
    "plt.title(\"Model Loss\")\n",
    "plt.ylabel(\"Loss\")\n",
    "plt.xlabel(\"Epoch\")\n",
    "plt.legend(['train set', 'validation set'], loc = 'upper left')\n",
    "plt.show()"
   ]
  }
 ],
 "metadata": {
  "kernelspec": {
   "display_name": "Python 3 (ipykernel)",
   "language": "python",
   "name": "python3"
  },
  "language_info": {
   "codemirror_mode": {
    "name": "ipython",
    "version": 3
   },
   "file_extension": ".py",
   "mimetype": "text/x-python",
   "name": "python",
   "nbconvert_exporter": "python",
   "pygments_lexer": "ipython3",
   "version": "3.9.7"
  }
 },
 "nbformat": 4,
 "nbformat_minor": 4
}
